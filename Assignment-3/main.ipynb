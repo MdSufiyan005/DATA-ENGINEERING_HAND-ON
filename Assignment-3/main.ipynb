{
 "cells": [
  {
   "cell_type": "code",
   "execution_count": 7,
   "id": "3edb6d1d",
   "metadata": {},
   "outputs": [],
   "source": [
    "import os\n",
    "import requests\n",
    "import sqlite3\n",
    "from dotenv import load_dotenv"
   ]
  },
  {
   "cell_type": "code",
   "execution_count": 10,
   "id": "9d040c12",
   "metadata": {},
   "outputs": [
    {
     "data": {
      "text/plain": [
       "{'coord': {'lon': 73.8553, 'lat': 18.5196},\n",
       " 'weather': [{'id': 803,\n",
       "   'main': 'Clouds',\n",
       "   'description': 'broken clouds',\n",
       "   'icon': '04d'}],\n",
       " 'base': 'stations',\n",
       " 'main': {'temp': 25.87,\n",
       "  'feels_like': 26.31,\n",
       "  'temp_min': 25.87,\n",
       "  'temp_max': 25.87,\n",
       "  'pressure': 1007,\n",
       "  'humidity': 69,\n",
       "  'sea_level': 1007,\n",
       "  'grnd_level': 934},\n",
       " 'visibility': 10000,\n",
       " 'wind': {'speed': 8.15, 'deg': 239, 'gust': 10.65},\n",
       " 'clouds': {'all': 68},\n",
       " 'dt': 1759127548,\n",
       " 'sys': {'country': 'IN', 'sunrise': 1759107276, 'sunset': 1759150511},\n",
       " 'timezone': 19800,\n",
       " 'id': 1259229,\n",
       " 'name': 'Pune',\n",
       " 'cod': 200}"
      ]
     },
     "execution_count": 10,
     "metadata": {},
     "output_type": "execute_result"
    }
   ],
   "source": [
    "API_KEY = os.getenv(\"WHEATHER_API_KEY\")\n",
    "city = 'Pune'\n",
    "url=f\"http://api.openweathermap.org/data/2.5/weather?q={city}&appid={API_KEY}&units=metric\"\n",
    "responce = requests.get(url)\n",
    "responce = responce.json()\n",
    "responce"
   ]
  },
  {
   "cell_type": "code",
   "execution_count": 20,
   "id": "4498671d",
   "metadata": {},
   "outputs": [
    {
     "name": "stderr",
     "output_type": "stream",
     "text": [
      "C:\\Users\\Mohammad Sufiyan\\AppData\\Local\\Temp\\ipykernel_4260\\3724466241.py:5: DeprecationWarning: datetime.datetime.utcfromtimestamp() is deprecated and scheduled for removal in a future version. Use timezone-aware objects to represent datetimes in UTC: datetime.datetime.fromtimestamp(timestamp, datetime.UTC).\n",
      "  weather_date = datetime.datetime.utcfromtimestamp(responce[\"dt\"]).strftime(\"%Y-%m-%d\")\n"
     ]
    }
   ],
   "source": [
    "import datetime\n",
    "\n",
    "temperature = responce['main']['temp']\n",
    "discription = responce['weather'][0]['description']\n",
    "weather_date = datetime.datetime.utcfromtimestamp(responce[\"dt\"]).strftime(\"%Y-%m-%d\")"
   ]
  },
  {
   "cell_type": "code",
   "execution_count": 22,
   "metadata": {},
   "outputs": [],
   "source": [
    "conn = sqlite3.connect('sales_data.db')\n",
    "Cursor = conn.cursor()"
   ]
  },
  {
   "cell_type": "code",
   "execution_count": 24,
   "id": "b9d077fa",
   "metadata": {},
   "outputs": [
    {
     "data": {
      "text/plain": [
       "<sqlite3.Cursor at 0x1f0aa2d3640>"
      ]
     },
     "execution_count": 24,
     "metadata": {},
     "output_type": "execute_result"
    }
   ],
   "source": [
    "Cursor.execute(\"\"\" \n",
    "        Create Table if not exists Weather(\n",
    "            ID INTEGER PRIMARY KEY AUTOINCREMENT,\n",
    "            PLACE TEXT,\n",
    "            TEMPERATURE REAL,\n",
    "            DISCRIPTION TEXT,\n",
    "            WEATHER_DATE TEXT  \n",
    "               )\n",
    "\"\"\"\n",
    ")\n"
   ]
  },
  {
   "cell_type": "code",
   "execution_count": 27,
   "id": "7e86a59c",
   "metadata": {},
   "outputs": [],
   "source": [
    "Cursor.execute(\"\"\"\n",
    "    INSERT INTO Weather(PLACE,TEMPERATURE,DISCRIPTION,WEATHER_DATE)\n",
    "    VALUES (?,?,?,?)\n",
    "\"\"\",(city,temperature,discription,weather_date))\n",
    "\n",
    "conn.commit()"
   ]
  },
  {
   "cell_type": "code",
   "execution_count": null,
   "id": "de510d40",
   "metadata": {},
   "outputs": [],
   "source": []
  }
 ],
 "metadata": {
  "kernelspec": {
   "display_name": "myenv",
   "language": "python",
   "name": "python3"
  },
  "language_info": {
   "codemirror_mode": {
    "name": "ipython",
    "version": 3
   },
   "file_extension": ".py",
   "mimetype": "text/x-python",
   "name": "python",
   "nbconvert_exporter": "python",
   "pygments_lexer": "ipython3",
   "version": "3.13.0"
  }
 },
 "nbformat": 4,
 "nbformat_minor": 5
}
